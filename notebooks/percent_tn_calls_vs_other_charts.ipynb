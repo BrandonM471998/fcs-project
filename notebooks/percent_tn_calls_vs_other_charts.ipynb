{
 "cells": [
  {
   "cell_type": "code",
   "execution_count": 16,
   "metadata": {},
   "outputs": [],
   "source": [
    "#importing in the necessary packages\n",
    "import pandas as pd\n",
    "import matplotlib.pyplot as plt\n",
    "import seaborn as sns\n",
    "from fuzzywuzzy import fuzz\n",
    "from fuzzywuzzy import process\n",
    "import datetime as dt\n",
    "%matplotlib inline"
   ]
  },
  {
   "cell_type": "markdown",
   "metadata": {},
   "source": [
    "### Exploring the data"
   ]
  },
  {
   "cell_type": "code",
   "execution_count": 17,
   "metadata": {},
   "outputs": [],
   "source": [
    "#reading in the csv\n",
    "fcs_data_2020 = pd.read_csv('../data/Crisis_2020_redacted.csv', encoding = 'latin-1', low_memory = False)\n",
    "fcs_data_2019 = pd.read_csv('../data/crisis_2019_redacted.csv', encoding = 'latin-1', low_memory = False)\n",
    "fcs_data_valencia = pd.read_csv('../data/crisis_valencia.csv', low_memory = False)"
   ]
  },
  {
   "cell_type": "code",
   "execution_count": 18,
   "metadata": {},
   "outputs": [
    {
     "data": {
      "text/html": [
       "<div>\n",
       "<style scoped>\n",
       "    .dataframe tbody tr th:only-of-type {\n",
       "        vertical-align: middle;\n",
       "    }\n",
       "\n",
       "    .dataframe tbody tr th {\n",
       "        vertical-align: top;\n",
       "    }\n",
       "\n",
       "    .dataframe thead th {\n",
       "        text-align: right;\n",
       "    }\n",
       "</style>\n",
       "<table border=\"1\" class=\"dataframe\">\n",
       "  <thead>\n",
       "    <tr style=\"text-align: right;\">\n",
       "      <th></th>\n",
       "      <th>CallReportNum</th>\n",
       "      <th>ReportVersion</th>\n",
       "      <th>LinkedToCallReportNum</th>\n",
       "      <th>CallDateAndTimeStart</th>\n",
       "      <th>CallDateAndTimeEnd</th>\n",
       "      <th>CallLength</th>\n",
       "      <th>CallerNum</th>\n",
       "      <th>PhoneWorkerNum</th>\n",
       "      <th>WasRealCall</th>\n",
       "      <th>WasHangup</th>\n",
       "      <th>...</th>\n",
       "      <th>Risk Assessment - S1: Individual screened for mental health or related intervention</th>\n",
       "      <th>Risk Assessment - Suicidal SLAPs</th>\n",
       "      <th>Suicide Assessment - Are you thinking of suicide?</th>\n",
       "      <th>Suicide Assessment - Caller is having thoughts of killing self or other</th>\n",
       "      <th>Suicide Assessment - Do you own a firearm?</th>\n",
       "      <th>Suicide Assessment - Have you ever attempted to kill yourself?</th>\n",
       "      <th>Suicide Assessment - Have you thought about suicide in the last two months?</th>\n",
       "      <th>Suicide Assessment - Suicide in progress?</th>\n",
       "      <th>Transfer Information - Were you transferred to this line from another crisis line or agency?</th>\n",
       "      <th>Transfer Information - Which line/agency transferred you to this Crisis Line?</th>\n",
       "    </tr>\n",
       "  </thead>\n",
       "  <tbody>\n",
       "    <tr>\n",
       "      <th>0</th>\n",
       "      <td>82699332</td>\n",
       "      <td>Crisis</td>\n",
       "      <td>NaN</td>\n",
       "      <td>12/31/2020 23:40</td>\n",
       "      <td>12/31/2020 23:53</td>\n",
       "      <td>13</td>\n",
       "      <td>3769693</td>\n",
       "      <td>116928</td>\n",
       "      <td>NaN</td>\n",
       "      <td>NaN</td>\n",
       "      <td>...</td>\n",
       "      <td>NaN</td>\n",
       "      <td>NaN</td>\n",
       "      <td>NaN</td>\n",
       "      <td>NaN</td>\n",
       "      <td>NaN</td>\n",
       "      <td>NaN</td>\n",
       "      <td>NaN</td>\n",
       "      <td>NaN</td>\n",
       "      <td>No</td>\n",
       "      <td>NaN</td>\n",
       "    </tr>\n",
       "    <tr>\n",
       "      <th>1</th>\n",
       "      <td>82689642</td>\n",
       "      <td>Crisis</td>\n",
       "      <td>NaN</td>\n",
       "      <td>12/31/2020 22:31</td>\n",
       "      <td>12/31/2020 23:00</td>\n",
       "      <td>29</td>\n",
       "      <td>-1</td>\n",
       "      <td>136748</td>\n",
       "      <td>NaN</td>\n",
       "      <td>NaN</td>\n",
       "      <td>...</td>\n",
       "      <td>NaN</td>\n",
       "      <td>NaN</td>\n",
       "      <td>NaN</td>\n",
       "      <td>NaN</td>\n",
       "      <td>NaN</td>\n",
       "      <td>NaN</td>\n",
       "      <td>NaN</td>\n",
       "      <td>NaN</td>\n",
       "      <td>No</td>\n",
       "      <td>NaN</td>\n",
       "    </tr>\n",
       "    <tr>\n",
       "      <th>2</th>\n",
       "      <td>82688780</td>\n",
       "      <td>Crisis</td>\n",
       "      <td>NaN</td>\n",
       "      <td>12/31/2020 21:32</td>\n",
       "      <td>12/31/2020 22:02</td>\n",
       "      <td>30</td>\n",
       "      <td>-1</td>\n",
       "      <td>139345</td>\n",
       "      <td>NaN</td>\n",
       "      <td>NaN</td>\n",
       "      <td>...</td>\n",
       "      <td>NaN</td>\n",
       "      <td>NaN</td>\n",
       "      <td>NaN</td>\n",
       "      <td>NaN</td>\n",
       "      <td>NaN</td>\n",
       "      <td>NaN</td>\n",
       "      <td>NaN</td>\n",
       "      <td>NaN</td>\n",
       "      <td>No</td>\n",
       "      <td>NaN</td>\n",
       "    </tr>\n",
       "    <tr>\n",
       "      <th>3</th>\n",
       "      <td>82688656</td>\n",
       "      <td>Crisis</td>\n",
       "      <td>NaN</td>\n",
       "      <td>12/31/2020 21:27</td>\n",
       "      <td>12/31/2020 21:43</td>\n",
       "      <td>16</td>\n",
       "      <td>-1</td>\n",
       "      <td>136748</td>\n",
       "      <td>NaN</td>\n",
       "      <td>NaN</td>\n",
       "      <td>...</td>\n",
       "      <td>NaN</td>\n",
       "      <td>NaN</td>\n",
       "      <td>NaN</td>\n",
       "      <td>NaN</td>\n",
       "      <td>NaN</td>\n",
       "      <td>NaN</td>\n",
       "      <td>NaN</td>\n",
       "      <td>NaN</td>\n",
       "      <td>No</td>\n",
       "      <td>NaN</td>\n",
       "    </tr>\n",
       "    <tr>\n",
       "      <th>4</th>\n",
       "      <td>82688670</td>\n",
       "      <td>Crisis</td>\n",
       "      <td>NaN</td>\n",
       "      <td>12/31/2020 21:19</td>\n",
       "      <td>12/31/2020 21:26</td>\n",
       "      <td>7</td>\n",
       "      <td>-1</td>\n",
       "      <td>139345</td>\n",
       "      <td>NaN</td>\n",
       "      <td>NaN</td>\n",
       "      <td>...</td>\n",
       "      <td>NaN</td>\n",
       "      <td>NaN</td>\n",
       "      <td>NaN</td>\n",
       "      <td>NaN</td>\n",
       "      <td>NaN</td>\n",
       "      <td>NaN</td>\n",
       "      <td>NaN</td>\n",
       "      <td>NaN</td>\n",
       "      <td>No</td>\n",
       "      <td>NaN</td>\n",
       "    </tr>\n",
       "  </tbody>\n",
       "</table>\n",
       "<p>5 rows × 153 columns</p>\n",
       "</div>"
      ],
      "text/plain": [
       "   CallReportNum ReportVersion  LinkedToCallReportNum CallDateAndTimeStart  \\\n",
       "0       82699332        Crisis                    NaN     12/31/2020 23:40   \n",
       "1       82689642        Crisis                    NaN     12/31/2020 22:31   \n",
       "2       82688780        Crisis                    NaN     12/31/2020 21:32   \n",
       "3       82688656        Crisis                    NaN     12/31/2020 21:27   \n",
       "4       82688670        Crisis                    NaN     12/31/2020 21:19   \n",
       "\n",
       "  CallDateAndTimeEnd  CallLength  CallerNum  PhoneWorkerNum  WasRealCall  \\\n",
       "0   12/31/2020 23:53          13    3769693          116928          NaN   \n",
       "1   12/31/2020 23:00          29         -1          136748          NaN   \n",
       "2   12/31/2020 22:02          30         -1          139345          NaN   \n",
       "3   12/31/2020 21:43          16         -1          136748          NaN   \n",
       "4   12/31/2020 21:26           7         -1          139345          NaN   \n",
       "\n",
       "   WasHangup  ...  \\\n",
       "0        NaN  ...   \n",
       "1        NaN  ...   \n",
       "2        NaN  ...   \n",
       "3        NaN  ...   \n",
       "4        NaN  ...   \n",
       "\n",
       "   Risk Assessment - S1: Individual screened for mental health or related intervention  \\\n",
       "0                                                NaN                                     \n",
       "1                                                NaN                                     \n",
       "2                                                NaN                                     \n",
       "3                                                NaN                                     \n",
       "4                                                NaN                                     \n",
       "\n",
       "   Risk Assessment - Suicidal SLAPs  \\\n",
       "0                               NaN   \n",
       "1                               NaN   \n",
       "2                               NaN   \n",
       "3                               NaN   \n",
       "4                               NaN   \n",
       "\n",
       "   Suicide Assessment - Are you thinking of suicide?  \\\n",
       "0                                                NaN   \n",
       "1                                                NaN   \n",
       "2                                                NaN   \n",
       "3                                                NaN   \n",
       "4                                                NaN   \n",
       "\n",
       "   Suicide Assessment - Caller is having thoughts of killing self or other  \\\n",
       "0                                                NaN                         \n",
       "1                                                NaN                         \n",
       "2                                                NaN                         \n",
       "3                                                NaN                         \n",
       "4                                                NaN                         \n",
       "\n",
       "   Suicide Assessment - Do you own a firearm?  \\\n",
       "0                                         NaN   \n",
       "1                                         NaN   \n",
       "2                                         NaN   \n",
       "3                                         NaN   \n",
       "4                                         NaN   \n",
       "\n",
       "   Suicide Assessment - Have you ever attempted to kill yourself?  \\\n",
       "0                                                NaN                \n",
       "1                                                NaN                \n",
       "2                                                NaN                \n",
       "3                                                NaN                \n",
       "4                                                NaN                \n",
       "\n",
       "  Suicide Assessment - Have you thought about suicide in the last two months?  \\\n",
       "0                                                NaN                            \n",
       "1                                                NaN                            \n",
       "2                                                NaN                            \n",
       "3                                                NaN                            \n",
       "4                                                NaN                            \n",
       "\n",
       "  Suicide Assessment - Suicide in progress?  \\\n",
       "0                                       NaN   \n",
       "1                                       NaN   \n",
       "2                                       NaN   \n",
       "3                                       NaN   \n",
       "4                                       NaN   \n",
       "\n",
       "  Transfer Information - Were you transferred to this line from another crisis line or agency?  \\\n",
       "0                                                 No                                             \n",
       "1                                                 No                                             \n",
       "2                                                 No                                             \n",
       "3                                                 No                                             \n",
       "4                                                 No                                             \n",
       "\n",
       "  Transfer Information - Which line/agency transferred you to this Crisis Line?  \n",
       "0                                                NaN                             \n",
       "1                                                NaN                             \n",
       "2                                                NaN                             \n",
       "3                                                NaN                             \n",
       "4                                                NaN                             \n",
       "\n",
       "[5 rows x 153 columns]"
      ]
     },
     "execution_count": 18,
     "metadata": {},
     "output_type": "execute_result"
    }
   ],
   "source": [
    "#reading in the first five rows\n",
    "fcs_data_2020.head()"
   ]
  },
  {
   "cell_type": "code",
   "execution_count": 19,
   "metadata": {},
   "outputs": [
    {
     "data": {
      "text/plain": [
       "(22326, 153)"
      ]
     },
     "execution_count": 19,
     "metadata": {},
     "output_type": "execute_result"
    }
   ],
   "source": [
    "#checking the shape of the dataframe\n",
    "fcs_data_2020.shape"
   ]
  },
  {
   "cell_type": "code",
   "execution_count": 20,
   "metadata": {},
   "outputs": [
    {
     "name": "stdout",
     "output_type": "stream",
     "text": [
      "<class 'pandas.core.frame.DataFrame'>\n",
      "RangeIndex: 22326 entries, 0 to 22325\n",
      "Columns: 153 entries, CallReportNum to Transfer Information - Which line/agency transferred you to this Crisis Line?\n",
      "dtypes: float64(74), int64(6), object(73)\n",
      "memory usage: 26.1+ MB\n"
     ]
    }
   ],
   "source": [
    "#checking the info of the dataframe\n",
    "fcs_data_2020.info()"
   ]
  },
  {
   "cell_type": "code",
   "execution_count": 21,
   "metadata": {},
   "outputs": [
    {
     "data": {
      "text/plain": [
       "Index(['CallReportNum', 'ReportVersion', 'LinkedToCallReportNum',\n",
       "       'CallDateAndTimeStart', 'CallDateAndTimeEnd', 'CallLength', 'CallerNum',\n",
       "       'PhoneWorkerNum', 'WasRealCall', 'WasHangup',\n",
       "       ...\n",
       "       'Risk Assessment - S1: Individual screened for mental health or related intervention',\n",
       "       'Risk Assessment - Suicidal SLAPs',\n",
       "       'Suicide Assessment - Are you thinking of suicide?',\n",
       "       'Suicide Assessment - Caller is having thoughts of killing self or other',\n",
       "       'Suicide Assessment - Do you own a firearm?',\n",
       "       'Suicide Assessment - Have you ever attempted to kill yourself?',\n",
       "       'Suicide Assessment - Have you thought about suicide in the last two months?',\n",
       "       'Suicide Assessment - Suicide in progress?',\n",
       "       'Transfer Information - Were you transferred to this line from another crisis line or agency?',\n",
       "       'Transfer Information - Which line/agency transferred you to this Crisis Line?'],\n",
       "      dtype='object', length=153)"
      ]
     },
     "execution_count": 21,
     "metadata": {},
     "output_type": "execute_result"
    }
   ],
   "source": [
    "#checking the columns of the dataframe\n",
    "fcs_data_2020.columns"
   ]
  },
  {
   "cell_type": "code",
   "execution_count": 22,
   "metadata": {},
   "outputs": [
    {
     "data": {
      "text/html": [
       "<div>\n",
       "<style scoped>\n",
       "    .dataframe tbody tr th:only-of-type {\n",
       "        vertical-align: middle;\n",
       "    }\n",
       "\n",
       "    .dataframe tbody tr th {\n",
       "        vertical-align: top;\n",
       "    }\n",
       "\n",
       "    .dataframe thead th {\n",
       "        text-align: right;\n",
       "    }\n",
       "</style>\n",
       "<table border=\"1\" class=\"dataframe\">\n",
       "  <thead>\n",
       "    <tr style=\"text-align: right;\">\n",
       "      <th></th>\n",
       "      <th>ï»¿CallReportNum</th>\n",
       "      <th>ReportVersion</th>\n",
       "      <th>LinkedToCallReportNum</th>\n",
       "      <th>CallDateAndTimeStart</th>\n",
       "      <th>CallDateAndTimeEnd</th>\n",
       "      <th>CallLength</th>\n",
       "      <th>CallerNum</th>\n",
       "      <th>PhoneWorkerNum</th>\n",
       "      <th>WasRealCall</th>\n",
       "      <th>WasHangup</th>\n",
       "      <th>...</th>\n",
       "      <th>Referrals - R1: Referred to mental health services</th>\n",
       "      <th>Risk Assessment - S1: Individual screened for mental health or related intervention</th>\n",
       "      <th>Suicide Assessment - Are you thinking of suicide?</th>\n",
       "      <th>Suicide Assessment - Caller is having thoughts of killing self or other</th>\n",
       "      <th>Suicide Assessment - Do you own a firearm?</th>\n",
       "      <th>Suicide Assessment - Have you ever attempted to kill yourself?</th>\n",
       "      <th>Suicide Assessment - Have you thought about suicide in the last two months?</th>\n",
       "      <th>Suicide Assessment - Suicide in progress?</th>\n",
       "      <th>Transfer Information - Were you transferred to this line from another crisis line or agency?</th>\n",
       "      <th>Transfer Information - Which line/agency transferred you to this Crisis Line?</th>\n",
       "    </tr>\n",
       "  </thead>\n",
       "  <tbody>\n",
       "    <tr>\n",
       "      <th>0</th>\n",
       "      <td>69489998</td>\n",
       "      <td>Crisis</td>\n",
       "      <td>NaN</td>\n",
       "      <td>12/31/2019 23:30</td>\n",
       "      <td>12/31/2019 23:45</td>\n",
       "      <td>15</td>\n",
       "      <td>-1</td>\n",
       "      <td>101461</td>\n",
       "      <td>NaN</td>\n",
       "      <td>NaN</td>\n",
       "      <td>...</td>\n",
       "      <td>NaN</td>\n",
       "      <td>NaN</td>\n",
       "      <td>NaN</td>\n",
       "      <td>NaN</td>\n",
       "      <td>NaN</td>\n",
       "      <td>NaN</td>\n",
       "      <td>NaN</td>\n",
       "      <td>NaN</td>\n",
       "      <td>NaN</td>\n",
       "      <td>NaN</td>\n",
       "    </tr>\n",
       "    <tr>\n",
       "      <th>1</th>\n",
       "      <td>69489941</td>\n",
       "      <td>Crisis</td>\n",
       "      <td>NaN</td>\n",
       "      <td>12/31/2019 22:32</td>\n",
       "      <td>12/31/2019 22:33</td>\n",
       "      <td>1</td>\n",
       "      <td>-1</td>\n",
       "      <td>101461</td>\n",
       "      <td>NaN</td>\n",
       "      <td>NaN</td>\n",
       "      <td>...</td>\n",
       "      <td>NaN</td>\n",
       "      <td>NaN</td>\n",
       "      <td>NaN</td>\n",
       "      <td>NaN</td>\n",
       "      <td>NaN</td>\n",
       "      <td>NaN</td>\n",
       "      <td>NaN</td>\n",
       "      <td>NaN</td>\n",
       "      <td>NaN</td>\n",
       "      <td>NaN</td>\n",
       "    </tr>\n",
       "    <tr>\n",
       "      <th>2</th>\n",
       "      <td>69487955</td>\n",
       "      <td>Crisis</td>\n",
       "      <td>NaN</td>\n",
       "      <td>12/31/2019 20:57</td>\n",
       "      <td>12/31/2019 21:40</td>\n",
       "      <td>43</td>\n",
       "      <td>-1</td>\n",
       "      <td>88564</td>\n",
       "      <td>NaN</td>\n",
       "      <td>NaN</td>\n",
       "      <td>...</td>\n",
       "      <td>NaN</td>\n",
       "      <td>NaN</td>\n",
       "      <td>NaN</td>\n",
       "      <td>NaN</td>\n",
       "      <td>NaN</td>\n",
       "      <td>NaN</td>\n",
       "      <td>NaN</td>\n",
       "      <td>NaN</td>\n",
       "      <td>NaN</td>\n",
       "      <td>NaN</td>\n",
       "    </tr>\n",
       "    <tr>\n",
       "      <th>3</th>\n",
       "      <td>69487196</td>\n",
       "      <td>Crisis</td>\n",
       "      <td>NaN</td>\n",
       "      <td>12/31/2019 20:06</td>\n",
       "      <td>12/31/2019 20:27</td>\n",
       "      <td>21</td>\n",
       "      <td>-1</td>\n",
       "      <td>88564</td>\n",
       "      <td>NaN</td>\n",
       "      <td>NaN</td>\n",
       "      <td>...</td>\n",
       "      <td>NaN</td>\n",
       "      <td>NaN</td>\n",
       "      <td>NaN</td>\n",
       "      <td>NaN</td>\n",
       "      <td>NaN</td>\n",
       "      <td>NaN</td>\n",
       "      <td>NaN</td>\n",
       "      <td>NaN</td>\n",
       "      <td>NaN</td>\n",
       "      <td>NaN</td>\n",
       "    </tr>\n",
       "    <tr>\n",
       "      <th>4</th>\n",
       "      <td>69486598</td>\n",
       "      <td>Crisis</td>\n",
       "      <td>NaN</td>\n",
       "      <td>12/31/2019 19:24</td>\n",
       "      <td>12/31/2019 19:43</td>\n",
       "      <td>19</td>\n",
       "      <td>-1</td>\n",
       "      <td>88564</td>\n",
       "      <td>NaN</td>\n",
       "      <td>NaN</td>\n",
       "      <td>...</td>\n",
       "      <td>NaN</td>\n",
       "      <td>NaN</td>\n",
       "      <td>NaN</td>\n",
       "      <td>NaN</td>\n",
       "      <td>NaN</td>\n",
       "      <td>NaN</td>\n",
       "      <td>NaN</td>\n",
       "      <td>NaN</td>\n",
       "      <td>NaN</td>\n",
       "      <td>NaN</td>\n",
       "    </tr>\n",
       "  </tbody>\n",
       "</table>\n",
       "<p>5 rows × 157 columns</p>\n",
       "</div>"
      ],
      "text/plain": [
       "   ï»¿CallReportNum ReportVersion  LinkedToCallReportNum CallDateAndTimeStart  \\\n",
       "0          69489998        Crisis                    NaN     12/31/2019 23:30   \n",
       "1          69489941        Crisis                    NaN     12/31/2019 22:32   \n",
       "2          69487955        Crisis                    NaN     12/31/2019 20:57   \n",
       "3          69487196        Crisis                    NaN     12/31/2019 20:06   \n",
       "4          69486598        Crisis                    NaN     12/31/2019 19:24   \n",
       "\n",
       "  CallDateAndTimeEnd  CallLength  CallerNum  PhoneWorkerNum  WasRealCall  \\\n",
       "0   12/31/2019 23:45          15         -1          101461          NaN   \n",
       "1   12/31/2019 22:33           1         -1          101461          NaN   \n",
       "2   12/31/2019 21:40          43         -1           88564          NaN   \n",
       "3   12/31/2019 20:27          21         -1           88564          NaN   \n",
       "4   12/31/2019 19:43          19         -1           88564          NaN   \n",
       "\n",
       "   WasHangup  ...  Referrals - R1: Referred to mental health services  \\\n",
       "0        NaN  ...                                                NaN    \n",
       "1        NaN  ...                                                NaN    \n",
       "2        NaN  ...                                                NaN    \n",
       "3        NaN  ...                                                NaN    \n",
       "4        NaN  ...                                                NaN    \n",
       "\n",
       "   Risk Assessment - S1: Individual screened for mental health or related intervention  \\\n",
       "0                                                NaN                                     \n",
       "1                                                NaN                                     \n",
       "2                                                NaN                                     \n",
       "3                                                NaN                                     \n",
       "4                                                NaN                                     \n",
       "\n",
       "   Suicide Assessment - Are you thinking of suicide?  \\\n",
       "0                                                NaN   \n",
       "1                                                NaN   \n",
       "2                                                NaN   \n",
       "3                                                NaN   \n",
       "4                                                NaN   \n",
       "\n",
       "   Suicide Assessment - Caller is having thoughts of killing self or other  \\\n",
       "0                                                NaN                         \n",
       "1                                                NaN                         \n",
       "2                                                NaN                         \n",
       "3                                                NaN                         \n",
       "4                                                NaN                         \n",
       "\n",
       "   Suicide Assessment - Do you own a firearm?  \\\n",
       "0                                         NaN   \n",
       "1                                         NaN   \n",
       "2                                         NaN   \n",
       "3                                         NaN   \n",
       "4                                         NaN   \n",
       "\n",
       "   Suicide Assessment - Have you ever attempted to kill yourself?  \\\n",
       "0                                                NaN                \n",
       "1                                                NaN                \n",
       "2                                                NaN                \n",
       "3                                                NaN                \n",
       "4                                                NaN                \n",
       "\n",
       "  Suicide Assessment - Have you thought about suicide in the last two months?  \\\n",
       "0                                                NaN                            \n",
       "1                                                NaN                            \n",
       "2                                                NaN                            \n",
       "3                                                NaN                            \n",
       "4                                                NaN                            \n",
       "\n",
       "  Suicide Assessment - Suicide in progress?  \\\n",
       "0                                       NaN   \n",
       "1                                       NaN   \n",
       "2                                       NaN   \n",
       "3                                       NaN   \n",
       "4                                       NaN   \n",
       "\n",
       "  Transfer Information - Were you transferred to this line from another crisis line or agency?  \\\n",
       "0                                                NaN                                             \n",
       "1                                                NaN                                             \n",
       "2                                                NaN                                             \n",
       "3                                                NaN                                             \n",
       "4                                                NaN                                             \n",
       "\n",
       "  Transfer Information - Which line/agency transferred you to this Crisis Line?  \n",
       "0                                                NaN                             \n",
       "1                                                NaN                             \n",
       "2                                                NaN                             \n",
       "3                                                NaN                             \n",
       "4                                                NaN                             \n",
       "\n",
       "[5 rows x 157 columns]"
      ]
     },
     "execution_count": 22,
     "metadata": {},
     "output_type": "execute_result"
    }
   ],
   "source": [
    "#reading in the first five rows\n",
    "fcs_data_2019.head()"
   ]
  },
  {
   "cell_type": "code",
   "execution_count": 23,
   "metadata": {},
   "outputs": [
    {
     "data": {
      "text/plain": [
       "(16033, 157)"
      ]
     },
     "execution_count": 23,
     "metadata": {},
     "output_type": "execute_result"
    }
   ],
   "source": [
    "#checking the shape of the dataframe\n",
    "fcs_data_2019.shape"
   ]
  },
  {
   "cell_type": "code",
   "execution_count": 24,
   "metadata": {},
   "outputs": [
    {
     "name": "stdout",
     "output_type": "stream",
     "text": [
      "<class 'pandas.core.frame.DataFrame'>\n",
      "RangeIndex: 16033 entries, 0 to 16032\n",
      "Columns: 157 entries, ï»¿CallReportNum to Transfer Information - Which line/agency transferred you to this Crisis Line?\n",
      "dtypes: float64(89), int64(6), object(62)\n",
      "memory usage: 19.2+ MB\n"
     ]
    }
   ],
   "source": [
    "#checking the info of the dataframe\n",
    "fcs_data_2019.info()"
   ]
  },
  {
   "cell_type": "code",
   "execution_count": 25,
   "metadata": {},
   "outputs": [
    {
     "data": {
      "text/plain": [
       "Index(['ï»¿CallReportNum', 'ReportVersion', 'LinkedToCallReportNum',\n",
       "       'CallDateAndTimeStart', 'CallDateAndTimeEnd', 'CallLength', 'CallerNum',\n",
       "       'PhoneWorkerNum', 'WasRealCall', 'WasHangup',\n",
       "       ...\n",
       "       'Referrals - R1: Referred to mental health services',\n",
       "       'Risk Assessment - S1: Individual screened for mental health or related intervention',\n",
       "       'Suicide Assessment - Are you thinking of suicide?',\n",
       "       'Suicide Assessment - Caller is having thoughts of killing self or other',\n",
       "       'Suicide Assessment - Do you own a firearm?',\n",
       "       'Suicide Assessment - Have you ever attempted to kill yourself?',\n",
       "       'Suicide Assessment - Have you thought about suicide in the last two months?',\n",
       "       'Suicide Assessment - Suicide in progress?',\n",
       "       'Transfer Information - Were you transferred to this line from another crisis line or agency?',\n",
       "       'Transfer Information - Which line/agency transferred you to this Crisis Line?'],\n",
       "      dtype='object', length=157)"
      ]
     },
     "execution_count": 25,
     "metadata": {},
     "output_type": "execute_result"
    }
   ],
   "source": [
    "#checking the columns of the dataframe\n",
    "fcs_data_2019.columns"
   ]
  },
  {
   "cell_type": "code",
   "execution_count": 26,
   "metadata": {},
   "outputs": [
    {
     "data": {
      "text/plain": [
       "dtype('int64')"
      ]
     },
     "execution_count": 26,
     "metadata": {},
     "output_type": "execute_result"
    }
   ],
   "source": [
    "#checking the datatype of the call length column\n",
    "fcs_data_2020['CallLength'].dtype"
   ]
  },
  {
   "cell_type": "code",
   "execution_count": 27,
   "metadata": {},
   "outputs": [
    {
     "data": {
      "text/html": [
       "<div>\n",
       "<style scoped>\n",
       "    .dataframe tbody tr th:only-of-type {\n",
       "        vertical-align: middle;\n",
       "    }\n",
       "\n",
       "    .dataframe tbody tr th {\n",
       "        vertical-align: top;\n",
       "    }\n",
       "\n",
       "    .dataframe thead th {\n",
       "        text-align: right;\n",
       "    }\n",
       "</style>\n",
       "<table border=\"1\" class=\"dataframe\">\n",
       "  <thead>\n",
       "    <tr style=\"text-align: right;\">\n",
       "      <th></th>\n",
       "      <th>Unnamed: 0</th>\n",
       "      <th>CallReportNum</th>\n",
       "      <th>CallDateAndTimeStart</th>\n",
       "      <th>CallDateAndTimeEnd</th>\n",
       "      <th>CallLength</th>\n",
       "      <th>CallerNum</th>\n",
       "      <th>PhoneWorkerNum</th>\n",
       "      <th>CityName</th>\n",
       "      <th>CountyName</th>\n",
       "      <th>StateProvince</th>\n",
       "      <th>...</th>\n",
       "      <th>CURRENT SUICIDAL INTENTION/PLAN/ATTEMPT IN PROGRESS</th>\n",
       "      <th>Suicide History/Previous Attempts</th>\n",
       "      <th>Grief due to Suicide Loss</th>\n",
       "      <th>Information about SOSL support group</th>\n",
       "      <th>Third party concerned about anothers suicide risk</th>\n",
       "      <th>CURRENT THOUGHTS/IDEATIONS</th>\n",
       "      <th>Total Suicide Issues</th>\n",
       "      <th>Total Number of Issues</th>\n",
       "      <th>IR Call</th>\n",
       "      <th>Number of Imminent Risk Issues</th>\n",
       "    </tr>\n",
       "  </thead>\n",
       "  <tbody>\n",
       "    <tr>\n",
       "      <th>0</th>\n",
       "      <td>0</td>\n",
       "      <td>82699332</td>\n",
       "      <td>2020-12-31 23:40:00</td>\n",
       "      <td>2020-12-31 23:53:00</td>\n",
       "      <td>13</td>\n",
       "      <td>3769693</td>\n",
       "      <td>116928</td>\n",
       "      <td>Houston</td>\n",
       "      <td>Harris</td>\n",
       "      <td>TX</td>\n",
       "      <td>...</td>\n",
       "      <td>0</td>\n",
       "      <td>0</td>\n",
       "      <td>0</td>\n",
       "      <td>0</td>\n",
       "      <td>0</td>\n",
       "      <td>0</td>\n",
       "      <td>0</td>\n",
       "      <td>4</td>\n",
       "      <td>No</td>\n",
       "      <td>0</td>\n",
       "    </tr>\n",
       "    <tr>\n",
       "      <th>1</th>\n",
       "      <td>1</td>\n",
       "      <td>82689642</td>\n",
       "      <td>2020-12-31 22:31:00</td>\n",
       "      <td>2020-12-31 23:00:00</td>\n",
       "      <td>29</td>\n",
       "      <td>-1</td>\n",
       "      <td>136748</td>\n",
       "      <td>NaN</td>\n",
       "      <td>NaN</td>\n",
       "      <td>TN</td>\n",
       "      <td>...</td>\n",
       "      <td>0</td>\n",
       "      <td>0</td>\n",
       "      <td>0</td>\n",
       "      <td>0</td>\n",
       "      <td>0</td>\n",
       "      <td>0</td>\n",
       "      <td>0</td>\n",
       "      <td>2</td>\n",
       "      <td>No</td>\n",
       "      <td>0</td>\n",
       "    </tr>\n",
       "    <tr>\n",
       "      <th>2</th>\n",
       "      <td>2</td>\n",
       "      <td>82688780</td>\n",
       "      <td>2020-12-31 21:32:00</td>\n",
       "      <td>2020-12-31 22:02:00</td>\n",
       "      <td>30</td>\n",
       "      <td>-1</td>\n",
       "      <td>139345</td>\n",
       "      <td>NaN</td>\n",
       "      <td>NaN</td>\n",
       "      <td>TN</td>\n",
       "      <td>...</td>\n",
       "      <td>0</td>\n",
       "      <td>0</td>\n",
       "      <td>0</td>\n",
       "      <td>0</td>\n",
       "      <td>0</td>\n",
       "      <td>0</td>\n",
       "      <td>0</td>\n",
       "      <td>7</td>\n",
       "      <td>No</td>\n",
       "      <td>0</td>\n",
       "    </tr>\n",
       "    <tr>\n",
       "      <th>3</th>\n",
       "      <td>3</td>\n",
       "      <td>82688656</td>\n",
       "      <td>2020-12-31 21:27:00</td>\n",
       "      <td>2020-12-31 21:43:00</td>\n",
       "      <td>16</td>\n",
       "      <td>-1</td>\n",
       "      <td>136748</td>\n",
       "      <td>NaN</td>\n",
       "      <td>NaN</td>\n",
       "      <td>TN</td>\n",
       "      <td>...</td>\n",
       "      <td>0</td>\n",
       "      <td>0</td>\n",
       "      <td>0</td>\n",
       "      <td>0</td>\n",
       "      <td>0</td>\n",
       "      <td>0</td>\n",
       "      <td>0</td>\n",
       "      <td>5</td>\n",
       "      <td>No</td>\n",
       "      <td>0</td>\n",
       "    </tr>\n",
       "    <tr>\n",
       "      <th>4</th>\n",
       "      <td>4</td>\n",
       "      <td>82688670</td>\n",
       "      <td>2020-12-31 21:19:00</td>\n",
       "      <td>2020-12-31 21:26:00</td>\n",
       "      <td>7</td>\n",
       "      <td>-1</td>\n",
       "      <td>139345</td>\n",
       "      <td>Marysville</td>\n",
       "      <td>Snohomish</td>\n",
       "      <td>WA</td>\n",
       "      <td>...</td>\n",
       "      <td>0</td>\n",
       "      <td>0</td>\n",
       "      <td>0</td>\n",
       "      <td>0</td>\n",
       "      <td>0</td>\n",
       "      <td>0</td>\n",
       "      <td>0</td>\n",
       "      <td>3</td>\n",
       "      <td>No</td>\n",
       "      <td>0</td>\n",
       "    </tr>\n",
       "  </tbody>\n",
       "</table>\n",
       "<p>5 rows × 235 columns</p>\n",
       "</div>"
      ],
      "text/plain": [
       "   Unnamed: 0  CallReportNum CallDateAndTimeStart   CallDateAndTimeEnd  \\\n",
       "0           0       82699332  2020-12-31 23:40:00  2020-12-31 23:53:00   \n",
       "1           1       82689642  2020-12-31 22:31:00  2020-12-31 23:00:00   \n",
       "2           2       82688780  2020-12-31 21:32:00  2020-12-31 22:02:00   \n",
       "3           3       82688656  2020-12-31 21:27:00  2020-12-31 21:43:00   \n",
       "4           4       82688670  2020-12-31 21:19:00  2020-12-31 21:26:00   \n",
       "\n",
       "   CallLength  CallerNum  PhoneWorkerNum    CityName CountyName StateProvince  \\\n",
       "0          13    3769693          116928     Houston     Harris            TX   \n",
       "1          29         -1          136748         NaN        NaN            TN   \n",
       "2          30         -1          139345         NaN        NaN            TN   \n",
       "3          16         -1          136748         NaN        NaN            TN   \n",
       "4           7         -1          139345  Marysville  Snohomish            WA   \n",
       "\n",
       "   ... CURRENT SUICIDAL INTENTION/PLAN/ATTEMPT IN PROGRESS  \\\n",
       "0  ...                                                  0    \n",
       "1  ...                                                  0    \n",
       "2  ...                                                  0    \n",
       "3  ...                                                  0    \n",
       "4  ...                                                  0    \n",
       "\n",
       "  Suicide History/Previous Attempts Grief due to Suicide Loss  \\\n",
       "0                                 0                         0   \n",
       "1                                 0                         0   \n",
       "2                                 0                         0   \n",
       "3                                 0                         0   \n",
       "4                                 0                         0   \n",
       "\n",
       "  Information about SOSL support group  \\\n",
       "0                                    0   \n",
       "1                                    0   \n",
       "2                                    0   \n",
       "3                                    0   \n",
       "4                                    0   \n",
       "\n",
       "  Third party concerned about anothers suicide risk  \\\n",
       "0                                                 0   \n",
       "1                                                 0   \n",
       "2                                                 0   \n",
       "3                                                 0   \n",
       "4                                                 0   \n",
       "\n",
       "  CURRENT THOUGHTS/IDEATIONS Total Suicide Issues Total Number of Issues  \\\n",
       "0                          0                    0                      4   \n",
       "1                          0                    0                      2   \n",
       "2                          0                    0                      7   \n",
       "3                          0                    0                      5   \n",
       "4                          0                    0                      3   \n",
       "\n",
       "  IR Call Number of Imminent Risk Issues  \n",
       "0      No                              0  \n",
       "1      No                              0  \n",
       "2      No                              0  \n",
       "3      No                              0  \n",
       "4      No                              0  \n",
       "\n",
       "[5 rows x 235 columns]"
      ]
     },
     "execution_count": 27,
     "metadata": {},
     "output_type": "execute_result"
    }
   ],
   "source": [
    "#checking the first five rows of the dataset\n",
    "fcs_data_valencia.head()"
   ]
  },
  {
   "cell_type": "markdown",
   "metadata": {},
   "source": [
    "### Subsetting to find the perecentage of imminent risk calls in TN vs other states for 2020"
   ]
  },
  {
   "cell_type": "code",
   "execution_count": 28,
   "metadata": {},
   "outputs": [],
   "source": [
    "#created a subset dataframe to help answer the question\n",
    "state_calls_2020 = fcs_data_valencia[['StateProvince','CallReportNum','Number of Imminent Risk Issues']]"
   ]
  },
  {
   "cell_type": "code",
   "execution_count": 29,
   "metadata": {},
   "outputs": [
    {
     "data": {
      "text/html": [
       "<div>\n",
       "<style scoped>\n",
       "    .dataframe tbody tr th:only-of-type {\n",
       "        vertical-align: middle;\n",
       "    }\n",
       "\n",
       "    .dataframe tbody tr th {\n",
       "        vertical-align: top;\n",
       "    }\n",
       "\n",
       "    .dataframe thead th {\n",
       "        text-align: right;\n",
       "    }\n",
       "</style>\n",
       "<table border=\"1\" class=\"dataframe\">\n",
       "  <thead>\n",
       "    <tr style=\"text-align: right;\">\n",
       "      <th></th>\n",
       "      <th>StateProvince</th>\n",
       "      <th>CallReportNum</th>\n",
       "      <th>Number of Imminent Risk Issues</th>\n",
       "    </tr>\n",
       "  </thead>\n",
       "  <tbody>\n",
       "    <tr>\n",
       "      <th>0</th>\n",
       "      <td>TX</td>\n",
       "      <td>82699332</td>\n",
       "      <td>0</td>\n",
       "    </tr>\n",
       "    <tr>\n",
       "      <th>1</th>\n",
       "      <td>TN</td>\n",
       "      <td>82689642</td>\n",
       "      <td>0</td>\n",
       "    </tr>\n",
       "    <tr>\n",
       "      <th>2</th>\n",
       "      <td>TN</td>\n",
       "      <td>82688780</td>\n",
       "      <td>0</td>\n",
       "    </tr>\n",
       "    <tr>\n",
       "      <th>3</th>\n",
       "      <td>TN</td>\n",
       "      <td>82688656</td>\n",
       "      <td>0</td>\n",
       "    </tr>\n",
       "    <tr>\n",
       "      <th>4</th>\n",
       "      <td>WA</td>\n",
       "      <td>82688670</td>\n",
       "      <td>0</td>\n",
       "    </tr>\n",
       "  </tbody>\n",
       "</table>\n",
       "</div>"
      ],
      "text/plain": [
       "  StateProvince  CallReportNum  Number of Imminent Risk Issues\n",
       "0            TX       82699332                               0\n",
       "1            TN       82689642                               0\n",
       "2            TN       82688780                               0\n",
       "3            TN       82688656                               0\n",
       "4            WA       82688670                               0"
      ]
     },
     "execution_count": 29,
     "metadata": {},
     "output_type": "execute_result"
    }
   ],
   "source": [
    "#checking the first five rows of the dataset\n",
    "state_calls_2020.head()"
   ]
  },
  {
   "cell_type": "code",
   "execution_count": 30,
   "metadata": {},
   "outputs": [],
   "source": [
    "#subsetting the original dataframe\n",
    "I_crisis = state_calls_2020[state_calls_2020[\"Number of Imminent Risk Issues\"] >= 1]"
   ]
  },
  {
   "cell_type": "code",
   "execution_count": 31,
   "metadata": {},
   "outputs": [],
   "source": [
    "#resetting the index of the dataframe\n",
    "I_crisis = I_crisis.reset_index(drop = True)"
   ]
  },
  {
   "cell_type": "code",
   "execution_count": 32,
   "metadata": {},
   "outputs": [
    {
     "name": "stdout",
     "output_type": "stream",
     "text": [
      "<class 'pandas.core.frame.DataFrame'>\n",
      "RangeIndex: 934 entries, 0 to 933\n",
      "Data columns (total 3 columns):\n",
      " #   Column                          Non-Null Count  Dtype \n",
      "---  ------                          --------------  ----- \n",
      " 0   StateProvince                   930 non-null    object\n",
      " 1   CallReportNum                   934 non-null    int64 \n",
      " 2   Number of Imminent Risk Issues  934 non-null    int64 \n",
      "dtypes: int64(2), object(1)\n",
      "memory usage: 22.0+ KB\n"
     ]
    }
   ],
   "source": [
    "#checking the info of the dataframe\n",
    "I_crisis.info()"
   ]
  },
  {
   "cell_type": "code",
   "execution_count": 33,
   "metadata": {},
   "outputs": [
    {
     "data": {
      "text/html": [
       "<div>\n",
       "<style scoped>\n",
       "    .dataframe tbody tr th:only-of-type {\n",
       "        vertical-align: middle;\n",
       "    }\n",
       "\n",
       "    .dataframe tbody tr th {\n",
       "        vertical-align: top;\n",
       "    }\n",
       "\n",
       "    .dataframe thead th {\n",
       "        text-align: right;\n",
       "    }\n",
       "</style>\n",
       "<table border=\"1\" class=\"dataframe\">\n",
       "  <thead>\n",
       "    <tr style=\"text-align: right;\">\n",
       "      <th></th>\n",
       "      <th>StateProvince</th>\n",
       "      <th>CallReportNum</th>\n",
       "      <th>Number of Imminent Risk Issues</th>\n",
       "    </tr>\n",
       "  </thead>\n",
       "  <tbody>\n",
       "    <tr>\n",
       "      <th>0</th>\n",
       "      <td>TN</td>\n",
       "      <td>82688287</td>\n",
       "      <td>1</td>\n",
       "    </tr>\n",
       "    <tr>\n",
       "      <th>1</th>\n",
       "      <td>TN</td>\n",
       "      <td>82682221</td>\n",
       "      <td>1</td>\n",
       "    </tr>\n",
       "    <tr>\n",
       "      <th>2</th>\n",
       "      <td>CA</td>\n",
       "      <td>82681308</td>\n",
       "      <td>1</td>\n",
       "    </tr>\n",
       "    <tr>\n",
       "      <th>3</th>\n",
       "      <td>TN</td>\n",
       "      <td>82676981</td>\n",
       "      <td>1</td>\n",
       "    </tr>\n",
       "    <tr>\n",
       "      <th>4</th>\n",
       "      <td>TN</td>\n",
       "      <td>82664579</td>\n",
       "      <td>1</td>\n",
       "    </tr>\n",
       "  </tbody>\n",
       "</table>\n",
       "</div>"
      ],
      "text/plain": [
       "  StateProvince  CallReportNum  Number of Imminent Risk Issues\n",
       "0            TN       82688287                               1\n",
       "1            TN       82682221                               1\n",
       "2            CA       82681308                               1\n",
       "3            TN       82676981                               1\n",
       "4            TN       82664579                               1"
      ]
     },
     "execution_count": 33,
     "metadata": {},
     "output_type": "execute_result"
    }
   ],
   "source": [
    "#checking the first five rows of the dataset\n",
    "I_crisis.head()"
   ]
  },
  {
   "cell_type": "code",
   "execution_count": 34,
   "metadata": {},
   "outputs": [
    {
     "data": {
      "text/plain": [
       "TN    876\n",
       "KS      9\n",
       "CA      5\n",
       "WI      5\n",
       "TX      5\n",
       "FL      5\n",
       "KY      4\n",
       "GA      3\n",
       "AZ      3\n",
       "NM      2\n",
       "LA      2\n",
       "MS      2\n",
       "IL      2\n",
       "NY      1\n",
       "MD      1\n",
       "AK      1\n",
       "NV      1\n",
       "VA      1\n",
       "MO      1\n",
       "NE      1\n",
       "Name: StateProvince, dtype: int64"
      ]
     },
     "execution_count": 34,
     "metadata": {},
     "output_type": "execute_result"
    }
   ],
   "source": [
    "#checking to see how many times a crisis call appeared by state\n",
    "I_crisis['StateProvince'].value_counts()"
   ]
  },
  {
   "cell_type": "code",
   "execution_count": 35,
   "metadata": {},
   "outputs": [],
   "source": [
    "#creating a dictionary based off the total count of crisis calls by state\n",
    "total_crisis_calls = 934\n",
    "crisis_calls_dict = {'TN':876, 'Other States':54, 'State Not Provided':4}"
   ]
  },
  {
   "cell_type": "code",
   "execution_count": 36,
   "metadata": {},
   "outputs": [
    {
     "name": "stdout",
     "output_type": "stream",
     "text": [
      "TN 93.79014989293361\n",
      "Other States 5.781584582441114\n",
      "State Not Provided 0.4282655246252677\n"
     ]
    }
   ],
   "source": [
    "#breaking down the dictionary into a percentage of a whole for all states combined\n",
    "s = sum(crisis_calls_dict.values())\n",
    "for k, v in crisis_calls_dict.items():\n",
    "    pct = v * 100.0 / s\n",
    "    print(k, pct)"
   ]
  },
  {
   "cell_type": "code",
   "execution_count": 37,
   "metadata": {},
   "outputs": [],
   "source": [
    "#creating a dictionary where the percentages can be plotted\n",
    "crisis_call_2020_ratio = {} # Defining an empty dictionary\n",
    "for i in crisis_calls_dict:\n",
    "    crisis_call_2020_ratio [i] = crisis_calls_dict [i]/total_crisis_calls"
   ]
  },
  {
   "cell_type": "code",
   "execution_count": 38,
   "metadata": {},
   "outputs": [
    {
     "data": {
      "text/plain": [
       "Text(0.5, 0.98, 'Percentage of TN Imminent Risk Calls vs Other State Imminent Risk Calls 2020')"
      ]
     },
     "execution_count": 38,
     "metadata": {},
     "output_type": "execute_result"
    },
    {
     "data": {
      "image/png": "[encoded data removed]",
      "text/plain": [
       "<Figure size 1440x1080 with 1 Axes>"
      ]
     },
     "metadata": {
      "needs_background": "light"
     },
     "output_type": "display_data"
    }
   ],
   "source": [
    "#created chart to plot the percentage of other state calls to TN calls\n",
    "ticksy = ['0%', '20%', '40%', '60%', '80%', '100%']\n",
    "plt.figure(figsize = (20,15))\n",
    "plt.bar(range(len(crisis_call_2020_ratio)), list(crisis_call_2020_ratio.values()), align='center', color = '#53b92b')\n",
    "plt.xticks(range(len(crisis_call_2020_ratio)), list(crisis_call_2020_ratio.keys()), fontsize = 23)\n",
    "plt.yticks([0.0,0.2,0.4,0.6,0.8,1.0],ticksy, fontsize = 23)\n",
    "plt.suptitle('Percentage of TN Imminent Risk Calls vs Other State Imminent Risk Calls 2020', fontsize = 35)"
   ]
  },
  {
   "cell_type": "markdown",
   "metadata": {},
   "source": [
    "### Subsetting to find the perecentage of calls in TN vs other states for 2020"
   ]
  },
  {
   "cell_type": "code",
   "execution_count": 39,
   "metadata": {},
   "outputs": [
    {
     "data": {
      "text/plain": [
       "22326"
      ]
     },
     "execution_count": 39,
     "metadata": {},
     "output_type": "execute_result"
    }
   ],
   "source": [
    "#every call report number seems to be unique\n",
    "fcs_data_2020['CallReportNum'].nunique()"
   ]
  },
  {
   "cell_type": "code",
   "execution_count": 40,
   "metadata": {},
   "outputs": [
    {
     "data": {
      "text/plain": [
       "False    22326\n",
       "Name: CallLength, dtype: int64"
      ]
     },
     "execution_count": 40,
     "metadata": {},
     "output_type": "execute_result"
    }
   ],
   "source": [
    "#every call seems to not be null\n",
    "fcs_data_2020['CallLength'].isnull().value_counts()"
   ]
  },
  {
   "cell_type": "code",
   "execution_count": 41,
   "metadata": {},
   "outputs": [
    {
     "data": {
      "text/plain": [
       "False    22268\n",
       "True        58\n",
       "Name: StateProvince, dtype: int64"
      ]
     },
     "execution_count": 41,
     "metadata": {},
     "output_type": "execute_result"
    }
   ],
   "source": [
    "#there seems to be 58 null values for the stateprovince column\n",
    "fcs_data_2020['StateProvince'].isnull().value_counts()"
   ]
  },
  {
   "cell_type": "code",
   "execution_count": 42,
   "metadata": {},
   "outputs": [],
   "source": [
    "#created a subset dataframe to help answer the question\n",
    "state_calls_2020 = fcs_data_2020[['StateProvince','CallReportNum','CallLength']]"
   ]
  },
  {
   "cell_type": "code",
   "execution_count": 43,
   "metadata": {},
   "outputs": [
    {
     "name": "stdout",
     "output_type": "stream",
     "text": [
      "<class 'pandas.core.frame.DataFrame'>\n",
      "RangeIndex: 22326 entries, 0 to 22325\n",
      "Data columns (total 3 columns):\n",
      " #   Column         Non-Null Count  Dtype \n",
      "---  ------         --------------  ----- \n",
      " 0   StateProvince  22268 non-null  object\n",
      " 1   CallReportNum  22326 non-null  int64 \n",
      " 2   CallLength     22326 non-null  int64 \n",
      "dtypes: int64(2), object(1)\n",
      "memory usage: 523.4+ KB\n"
     ]
    }
   ],
   "source": [
    "#checking to see the dataframe got created properly\n",
    "state_calls_2020.info()"
   ]
  },
  {
   "cell_type": "code",
   "execution_count": 44,
   "metadata": {},
   "outputs": [],
   "source": [
    "#dropping null values\n",
    "state_calls_2020 = state_calls_2020.dropna(subset = ['StateProvince'])"
   ]
  },
  {
   "cell_type": "code",
   "execution_count": 45,
   "metadata": {},
   "outputs": [
    {
     "data": {
      "text/plain": [
       "StateProvince  CallReportNum  CallLength\n",
       "False          False          False         22268\n",
       "dtype: int64"
      ]
     },
     "execution_count": 45,
     "metadata": {},
     "output_type": "execute_result"
    }
   ],
   "source": [
    "#checking to make sure the null values were dropped\n",
    "state_calls_2020.isnull().value_counts()"
   ]
  },
  {
   "cell_type": "code",
   "execution_count": 46,
   "metadata": {},
   "outputs": [
    {
     "data": {
      "text/html": [
       "<div>\n",
       "<style scoped>\n",
       "    .dataframe tbody tr th:only-of-type {\n",
       "        vertical-align: middle;\n",
       "    }\n",
       "\n",
       "    .dataframe tbody tr th {\n",
       "        vertical-align: top;\n",
       "    }\n",
       "\n",
       "    .dataframe thead th {\n",
       "        text-align: right;\n",
       "    }\n",
       "</style>\n",
       "<table border=\"1\" class=\"dataframe\">\n",
       "  <thead>\n",
       "    <tr style=\"text-align: right;\">\n",
       "      <th></th>\n",
       "      <th>StateProvince</th>\n",
       "      <th>CallReportNum</th>\n",
       "      <th>CallLength</th>\n",
       "    </tr>\n",
       "  </thead>\n",
       "  <tbody>\n",
       "    <tr>\n",
       "      <th>0</th>\n",
       "      <td>TX</td>\n",
       "      <td>82699332</td>\n",
       "      <td>13</td>\n",
       "    </tr>\n",
       "    <tr>\n",
       "      <th>1</th>\n",
       "      <td>TN</td>\n",
       "      <td>82689642</td>\n",
       "      <td>29</td>\n",
       "    </tr>\n",
       "    <tr>\n",
       "      <th>2</th>\n",
       "      <td>TN</td>\n",
       "      <td>82688780</td>\n",
       "      <td>30</td>\n",
       "    </tr>\n",
       "    <tr>\n",
       "      <th>3</th>\n",
       "      <td>TN</td>\n",
       "      <td>82688656</td>\n",
       "      <td>16</td>\n",
       "    </tr>\n",
       "    <tr>\n",
       "      <th>4</th>\n",
       "      <td>WA</td>\n",
       "      <td>82688670</td>\n",
       "      <td>7</td>\n",
       "    </tr>\n",
       "  </tbody>\n",
       "</table>\n",
       "</div>"
      ],
      "text/plain": [
       "  StateProvince  CallReportNum  CallLength\n",
       "0            TX       82699332          13\n",
       "1            TN       82689642          29\n",
       "2            TN       82688780          30\n",
       "3            TN       82688656          16\n",
       "4            WA       82688670           7"
      ]
     },
     "execution_count": 46,
     "metadata": {},
     "output_type": "execute_result"
    }
   ],
   "source": [
    "#checking the shape of the dataframe\n",
    "state_calls_2020.head()"
   ]
  },
  {
   "cell_type": "code",
   "execution_count": 47,
   "metadata": {},
   "outputs": [
    {
     "data": {
      "text/html": [
       "<div>\n",
       "<style scoped>\n",
       "    .dataframe tbody tr th:only-of-type {\n",
       "        vertical-align: middle;\n",
       "    }\n",
       "\n",
       "    .dataframe tbody tr th {\n",
       "        vertical-align: top;\n",
       "    }\n",
       "\n",
       "    .dataframe thead th {\n",
       "        text-align: right;\n",
       "    }\n",
       "</style>\n",
       "<table border=\"1\" class=\"dataframe\">\n",
       "  <thead>\n",
       "    <tr style=\"text-align: right;\">\n",
       "      <th></th>\n",
       "      <th>StateProvince</th>\n",
       "      <th>CallReportNum</th>\n",
       "      <th>CallLength</th>\n",
       "    </tr>\n",
       "  </thead>\n",
       "  <tbody>\n",
       "    <tr>\n",
       "      <th>22321</th>\n",
       "      <td>TN</td>\n",
       "      <td>69492892</td>\n",
       "      <td>14</td>\n",
       "    </tr>\n",
       "    <tr>\n",
       "      <th>22322</th>\n",
       "      <td>TN</td>\n",
       "      <td>69492741</td>\n",
       "      <td>20</td>\n",
       "    </tr>\n",
       "    <tr>\n",
       "      <th>22323</th>\n",
       "      <td>TN</td>\n",
       "      <td>69492019</td>\n",
       "      <td>18</td>\n",
       "    </tr>\n",
       "    <tr>\n",
       "      <th>22324</th>\n",
       "      <td>TN</td>\n",
       "      <td>69492070</td>\n",
       "      <td>4</td>\n",
       "    </tr>\n",
       "    <tr>\n",
       "      <th>22325</th>\n",
       "      <td>TN</td>\n",
       "      <td>69492055</td>\n",
       "      <td>1</td>\n",
       "    </tr>\n",
       "  </tbody>\n",
       "</table>\n",
       "</div>"
      ],
      "text/plain": [
       "      StateProvince  CallReportNum  CallLength\n",
       "22321            TN       69492892          14\n",
       "22322            TN       69492741          20\n",
       "22323            TN       69492019          18\n",
       "22324            TN       69492070           4\n",
       "22325            TN       69492055           1"
      ]
     },
     "execution_count": 47,
     "metadata": {},
     "output_type": "execute_result"
    }
   ],
   "source": [
    "#checking the shape of the dataframe\n",
    "state_calls_2020.tail()"
   ]
  },
  {
   "cell_type": "code",
   "execution_count": 48,
   "metadata": {},
   "outputs": [
    {
     "data": {
      "text/plain": [
       "TN    20418\n",
       "WI      350\n",
       "TX      227\n",
       "MN      132\n",
       "KS      117\n",
       "KY      111\n",
       "MS       98\n",
       "FL       85\n",
       "GA       74\n",
       "WY       58\n",
       "IN       57\n",
       "CA       52\n",
       "OK       42\n",
       "AL       39\n",
       "OR       37\n",
       "IL       35\n",
       "NV       31\n",
       "NY       30\n",
       "PA       26\n",
       "NE       23\n",
       "OH       23\n",
       "VA       20\n",
       "NJ       19\n",
       "AZ       15\n",
       "BC       15\n",
       "NC       15\n",
       "MD       14\n",
       "MI       13\n",
       "MA       12\n",
       "WA       12\n",
       "NM        8\n",
       "CO        8\n",
       "MO        8\n",
       "LA        7\n",
       "CT        5\n",
       "AR        4\n",
       "AK        4\n",
       "IA        3\n",
       "RI        3\n",
       "SC        3\n",
       "WV        3\n",
       "HI        2\n",
       "MT        2\n",
       "ID        2\n",
       "PR        1\n",
       "QC        1\n",
       "NH        1\n",
       "ND        1\n",
       "UT        1\n",
       "ME        1\n",
       "Name: StateProvince, dtype: int64"
      ]
     },
     "execution_count": 48,
     "metadata": {},
     "output_type": "execute_result"
    }
   ],
   "source": [
    "#counting how many times a state appears\n",
    "state_calls_2020['StateProvince'].value_counts()"
   ]
  },
  {
   "cell_type": "code",
   "execution_count": 49,
   "metadata": {},
   "outputs": [],
   "source": [
    "#making a dictionary of all states\n",
    "state_dict_2020 = {'TN':20418, 'WI':350,'TX':227,'MN':132,'KS':117,'KY':111,\n",
    "            'MS':98,'FL':85,'GA':74,'WY':58,'IN':57,'CA':52,'OK':42,'AL':39,'OR':37,\n",
    "              'IL':35,'NV':31,'NY':30,'PA':26,'OH':23,'NE':23,'VA':20,'NJ':19,'AZ':15,'NC':15,\n",
    "              'BC':15,'MD':14,'MI':13,'WA':12,'MA':12,'NM': 8,'CO': 8,'MO': 8,'LA': 7,'CT': 5,'AR': 4,'AK': 4,\n",
    "              'RI': 3,'SC': 3,'WV': 3,'IA': 3,'MT': 2,'HI': 2,'ID': 2,'ME': 1,'QC': 1,'ND': 1,'NH': 1,'UT': 1,'PR': 1}"
   ]
  },
  {
   "cell_type": "code",
   "execution_count": 50,
   "metadata": {},
   "outputs": [
    {
     "name": "stdout",
     "output_type": "stream",
     "text": [
      "TN 91.69211424465601\n",
      "WI 1.5717621699299442\n",
      "TX 1.0194000359259925\n",
      "MN 0.5927788755164362\n",
      "KS 0.5254176396622957\n",
      "KY 0.49847314532063947\n",
      "MS 0.4400934075803844\n",
      "FL 0.38171366984012933\n",
      "GA 0.33231543021375964\n",
      "WY 0.2604634453026765\n",
      "IN 0.25597269624573377\n",
      "CA 0.2335189509610203\n",
      "OK 0.18861146039159332\n",
      "AL 0.17513921322076523\n",
      "OR 0.16615771510687982\n",
      "IL 0.15717621699299444\n",
      "NV 0.13921322076522363\n",
      "NY 0.13472247170828094\n",
      "PA 0.11675947548051015\n",
      "OH 0.10328722830968205\n",
      "NE 0.10328722830968205\n",
      "VA 0.08981498113885396\n",
      "NJ 0.08532423208191127\n",
      "AZ 0.06736123585414047\n",
      "NC 0.06736123585414047\n",
      "BC 0.06736123585414047\n",
      "MD 0.06287048679719777\n",
      "MI 0.058379737740255074\n",
      "WA 0.05388898868331238\n",
      "MA 0.05388898868331238\n",
      "NM 0.03592599245554159\n",
      "CO 0.03592599245554159\n",
      "MO 0.03592599245554159\n",
      "LA 0.031435243398598885\n",
      "CT 0.02245374528471349\n",
      "AR 0.017962996227770794\n",
      "AK 0.017962996227770794\n",
      "RI 0.013472247170828094\n",
      "SC 0.013472247170828094\n",
      "WV 0.013472247170828094\n",
      "IA 0.013472247170828094\n",
      "MT 0.008981498113885397\n",
      "HI 0.008981498113885397\n",
      "ID 0.008981498113885397\n",
      "ME 0.004490749056942698\n",
      "QC 0.004490749056942698\n",
      "ND 0.004490749056942698\n",
      "NH 0.004490749056942698\n",
      "UT 0.004490749056942698\n",
      "PR 0.004490749056942698\n"
     ]
    }
   ],
   "source": [
    "#breaking down the dictionary into percentages of a whole\n",
    "s = sum(state_dict_2020.values())\n",
    "for k, v in state_dict_2020.items():\n",
    "    pct = v * 100.0 / s\n",
    "    print(k, pct)"
   ]
  },
  {
   "cell_type": "code",
   "execution_count": 51,
   "metadata": {},
   "outputs": [],
   "source": [
    "#listing all calls and all others states\n",
    "total_calls_2020 = 22326\n",
    "state_dict_2020_total = {'TN':20418, 'Other States':1850, 'State Not Provided':58}"
   ]
  },
  {
   "cell_type": "code",
   "execution_count": 52,
   "metadata": {},
   "outputs": [
    {
     "name": "stdout",
     "output_type": "stream",
     "text": [
      "TN 91.45391023918302\n",
      "Other States 8.286302965152737\n",
      "State Not Provided 0.25978679566424795\n"
     ]
    }
   ],
   "source": [
    "#breaking down the dictionary into a percentage of a whole for all states combined\n",
    "s = sum(state_dict_2020_total.values())\n",
    "for k, v in state_dict_2020_total.items():\n",
    "    pct = v * 100.0 / s\n",
    "    print(k, pct)"
   ]
  },
  {
   "cell_type": "code",
   "execution_count": 53,
   "metadata": {},
   "outputs": [],
   "source": [
    "#creating a dictionary where the percentages can be plotted\n",
    "state_call_2020_ratio = {} # Defining an empty dictionary\n",
    "for i in state_dict_2020_total:\n",
    "    state_call_2020_ratio [i] = state_dict_2020_total [i]/total_calls_2020"
   ]
  },
  {
   "cell_type": "code",
   "execution_count": 54,
   "metadata": {},
   "outputs": [
    {
     "data": {
      "text/plain": [
       "Text(0.5, 0.98, 'Percentage of TN Calls vs Other State Calls 2020')"
      ]
     },
     "execution_count": 54,
     "metadata": {},
     "output_type": "execute_result"
    },
    {
     "data": {
      "image/png": "[encoded data removed]",
      "text/plain": [
       "<Figure size 1440x1080 with 1 Axes>"
      ]
     },
     "metadata": {
      "needs_background": "light"
     },
     "output_type": "display_data"
    }
   ],
   "source": [
    "#created chart to plot the percentage of other state calls to TN calls\n",
    "ticksy = ['0%', '20%', '40%', '60%', '80%', '100%']\n",
    "plt.figure(figsize = (20,15))\n",
    "plt.bar(range(len(state_call_2020_ratio)), list(state_call_2020_ratio.values()), align='center', color = '#a45c7c')\n",
    "plt.xticks(range(len(state_call_2020_ratio)), list(state_call_2020_ratio.keys()), fontsize = 23)\n",
    "plt.yticks([0.0,0.2,0.4,0.6,0.8,1.0],ticksy, fontsize = 23)\n",
    "plt.suptitle('Percentage of TN Calls vs Other State Calls 2020', fontsize = 35)"
   ]
  },
  {
   "cell_type": "markdown",
   "metadata": {},
   "source": [
    "### Subsetting to find the perecentage of calls in TN vs other states for 2019"
   ]
  },
  {
   "cell_type": "code",
   "execution_count": 55,
   "metadata": {},
   "outputs": [
    {
     "data": {
      "text/plain": [
       "16033"
      ]
     },
     "execution_count": 55,
     "metadata": {},
     "output_type": "execute_result"
    }
   ],
   "source": [
    "#every call report number seems to be unique\n",
    "fcs_data_2019['ï»¿CallReportNum'].nunique()"
   ]
  },
  {
   "cell_type": "code",
   "execution_count": 56,
   "metadata": {},
   "outputs": [
    {
     "data": {
      "text/plain": [
       "False    16033\n",
       "Name: CallLength, dtype: int64"
      ]
     },
     "execution_count": 56,
     "metadata": {},
     "output_type": "execute_result"
    }
   ],
   "source": [
    "#every call seems to not be null\n",
    "fcs_data_2019['CallLength'].isnull().value_counts()"
   ]
  },
  {
   "cell_type": "code",
   "execution_count": 57,
   "metadata": {},
   "outputs": [
    {
     "data": {
      "text/plain": [
       "False    15941\n",
       "True        92\n",
       "Name: StateProvince, dtype: int64"
      ]
     },
     "execution_count": 57,
     "metadata": {},
     "output_type": "execute_result"
    }
   ],
   "source": [
    "#there seems to be 58 null values for the stateprovince column\n",
    "fcs_data_2019['StateProvince'].isnull().value_counts()"
   ]
  },
  {
   "cell_type": "code",
   "execution_count": 58,
   "metadata": {},
   "outputs": [],
   "source": [
    "#created a subset dataframe to help answer the question\n",
    "state_calls_2019 = fcs_data_2019[['StateProvince','ï»¿CallReportNum','CallLength']]"
   ]
  },
  {
   "cell_type": "code",
   "execution_count": 59,
   "metadata": {},
   "outputs": [
    {
     "name": "stdout",
     "output_type": "stream",
     "text": [
      "<class 'pandas.core.frame.DataFrame'>\n",
      "RangeIndex: 16033 entries, 0 to 16032\n",
      "Data columns (total 3 columns):\n",
      " #   Column            Non-Null Count  Dtype \n",
      "---  ------            --------------  ----- \n",
      " 0   StateProvince     15941 non-null  object\n",
      " 1   ï»¿CallReportNum  16033 non-null  int64 \n",
      " 2   CallLength        16033 non-null  int64 \n",
      "dtypes: int64(2), object(1)\n",
      "memory usage: 375.9+ KB\n"
     ]
    }
   ],
   "source": [
    "#checking to see the dataframe got created properly\n",
    "state_calls_2019.info()"
   ]
  },
  {
   "cell_type": "code",
   "execution_count": 60,
   "metadata": {},
   "outputs": [],
   "source": [
    "#dropping null values\n",
    "state_calls_2019 = state_calls_2019.dropna(subset = ['StateProvince'])"
   ]
  },
  {
   "cell_type": "code",
   "execution_count": 61,
   "metadata": {},
   "outputs": [
    {
     "data": {
      "text/plain": [
       "StateProvince  ï»¿CallReportNum  CallLength\n",
       "False          False             False         15941\n",
       "dtype: int64"
      ]
     },
     "execution_count": 61,
     "metadata": {},
     "output_type": "execute_result"
    }
   ],
   "source": [
    "#checking to make sure the null values were dropped\n",
    "state_calls_2019.isnull().value_counts()"
   ]
  },
  {
   "cell_type": "code",
   "execution_count": 62,
   "metadata": {},
   "outputs": [
    {
     "data": {
      "text/html": [
       "<div>\n",
       "<style scoped>\n",
       "    .dataframe tbody tr th:only-of-type {\n",
       "        vertical-align: middle;\n",
       "    }\n",
       "\n",
       "    .dataframe tbody tr th {\n",
       "        vertical-align: top;\n",
       "    }\n",
       "\n",
       "    .dataframe thead th {\n",
       "        text-align: right;\n",
       "    }\n",
       "</style>\n",
       "<table border=\"1\" class=\"dataframe\">\n",
       "  <thead>\n",
       "    <tr style=\"text-align: right;\">\n",
       "      <th></th>\n",
       "      <th>StateProvince</th>\n",
       "      <th>ï»¿CallReportNum</th>\n",
       "      <th>CallLength</th>\n",
       "    </tr>\n",
       "  </thead>\n",
       "  <tbody>\n",
       "    <tr>\n",
       "      <th>0</th>\n",
       "      <td>TN</td>\n",
       "      <td>69489998</td>\n",
       "      <td>15</td>\n",
       "    </tr>\n",
       "    <tr>\n",
       "      <th>1</th>\n",
       "      <td>TN</td>\n",
       "      <td>69489941</td>\n",
       "      <td>1</td>\n",
       "    </tr>\n",
       "    <tr>\n",
       "      <th>2</th>\n",
       "      <td>TN</td>\n",
       "      <td>69487955</td>\n",
       "      <td>43</td>\n",
       "    </tr>\n",
       "    <tr>\n",
       "      <th>3</th>\n",
       "      <td>TN</td>\n",
       "      <td>69487196</td>\n",
       "      <td>21</td>\n",
       "    </tr>\n",
       "    <tr>\n",
       "      <th>4</th>\n",
       "      <td>MS</td>\n",
       "      <td>69486598</td>\n",
       "      <td>19</td>\n",
       "    </tr>\n",
       "  </tbody>\n",
       "</table>\n",
       "</div>"
      ],
      "text/plain": [
       "  StateProvince  ï»¿CallReportNum  CallLength\n",
       "0            TN          69489998          15\n",
       "1            TN          69489941           1\n",
       "2            TN          69487955          43\n",
       "3            TN          69487196          21\n",
       "4            MS          69486598          19"
      ]
     },
     "execution_count": 62,
     "metadata": {},
     "output_type": "execute_result"
    }
   ],
   "source": [
    "#checking the shape of the dataframe\n",
    "state_calls_2019.head()"
   ]
  },
  {
   "cell_type": "code",
   "execution_count": 63,
   "metadata": {},
   "outputs": [
    {
     "data": {
      "text/html": [
       "<div>\n",
       "<style scoped>\n",
       "    .dataframe tbody tr th:only-of-type {\n",
       "        vertical-align: middle;\n",
       "    }\n",
       "\n",
       "    .dataframe tbody tr th {\n",
       "        vertical-align: top;\n",
       "    }\n",
       "\n",
       "    .dataframe thead th {\n",
       "        text-align: right;\n",
       "    }\n",
       "</style>\n",
       "<table border=\"1\" class=\"dataframe\">\n",
       "  <thead>\n",
       "    <tr style=\"text-align: right;\">\n",
       "      <th></th>\n",
       "      <th>StateProvince</th>\n",
       "      <th>ï»¿CallReportNum</th>\n",
       "      <th>CallLength</th>\n",
       "    </tr>\n",
       "  </thead>\n",
       "  <tbody>\n",
       "    <tr>\n",
       "      <th>16028</th>\n",
       "      <td>TN</td>\n",
       "      <td>59123033</td>\n",
       "      <td>51</td>\n",
       "    </tr>\n",
       "    <tr>\n",
       "      <th>16029</th>\n",
       "      <td>TN</td>\n",
       "      <td>59122623</td>\n",
       "      <td>32</td>\n",
       "    </tr>\n",
       "    <tr>\n",
       "      <th>16030</th>\n",
       "      <td>TN</td>\n",
       "      <td>59122574</td>\n",
       "      <td>2</td>\n",
       "    </tr>\n",
       "    <tr>\n",
       "      <th>16031</th>\n",
       "      <td>TN</td>\n",
       "      <td>59122508</td>\n",
       "      <td>5</td>\n",
       "    </tr>\n",
       "    <tr>\n",
       "      <th>16032</th>\n",
       "      <td>TN</td>\n",
       "      <td>59122071</td>\n",
       "      <td>3</td>\n",
       "    </tr>\n",
       "  </tbody>\n",
       "</table>\n",
       "</div>"
      ],
      "text/plain": [
       "      StateProvince  ï»¿CallReportNum  CallLength\n",
       "16028            TN          59123033          51\n",
       "16029            TN          59122623          32\n",
       "16030            TN          59122574           2\n",
       "16031            TN          59122508           5\n",
       "16032            TN          59122071           3"
      ]
     },
     "execution_count": 63,
     "metadata": {},
     "output_type": "execute_result"
    }
   ],
   "source": [
    "#checking the shape of the dataframe\n",
    "state_calls_2019.tail()"
   ]
  },
  {
   "cell_type": "code",
   "execution_count": 64,
   "metadata": {},
   "outputs": [
    {
     "data": {
      "text/plain": [
       "TN    15051\n",
       "WI      237\n",
       "NV       96\n",
       "KY       96\n",
       "MS       65\n",
       "FL       46\n",
       "CA       40\n",
       "IN       37\n",
       "GA       33\n",
       "AL       31\n",
       "OK       26\n",
       "IL       25\n",
       "NY       19\n",
       "MI       17\n",
       "TX       11\n",
       "CT       10\n",
       "LA       10\n",
       "NC        9\n",
       "NJ        8\n",
       "MD        7\n",
       "PA        7\n",
       "VA        7\n",
       "AZ        6\n",
       "WA        6\n",
       "BC        5\n",
       "SC        5\n",
       "MO        4\n",
       "OR        4\n",
       "NE        3\n",
       "MN        3\n",
       "IA        3\n",
       "NM        2\n",
       "CO        2\n",
       "MA        2\n",
       "WV        1\n",
       "NL        1\n",
       "AR        1\n",
       "KS        1\n",
       "ME        1\n",
       "DC        1\n",
       "VT        1\n",
       "OH        1\n",
       "Name: StateProvince, dtype: int64"
      ]
     },
     "execution_count": 64,
     "metadata": {},
     "output_type": "execute_result"
    }
   ],
   "source": [
    "#counting how many times a state appears\n",
    "state_calls_2019['StateProvince'].value_counts()"
   ]
  },
  {
   "cell_type": "code",
   "execution_count": 65,
   "metadata": {},
   "outputs": [],
   "source": [
    "#listing all calls and all others states\n",
    "total_calls_2019 = 16033\n",
    "state_dict_2019_total = {'TN':15051, 'Other States':890, 'State Not Provided':92}"
   ]
  },
  {
   "cell_type": "code",
   "execution_count": 66,
   "metadata": {},
   "outputs": [
    {
     "name": "stdout",
     "output_type": "stream",
     "text": [
      "TN 93.87513253913802\n",
      "Other States 5.551050957400362\n",
      "State Not Provided 0.5738165034616104\n"
     ]
    }
   ],
   "source": [
    "#breaking down the dictionary into a percentage of a whole for all states combined\n",
    "s = sum(state_dict_2019_total.values())\n",
    "for k, v in state_dict_2019_total.items():\n",
    "    pct = v * 100.0 / s\n",
    "    print(k, pct)"
   ]
  },
  {
   "cell_type": "code",
   "execution_count": 67,
   "metadata": {},
   "outputs": [],
   "source": [
    "#creating a dictionary where the percentages can be plotted\n",
    "state_call_2019_ratio = {} # Defining an empty dictionary\n",
    "for i in state_dict_2019_total:\n",
    "    state_call_2019_ratio [i] = state_dict_2019_total [i]/total_calls_2019"
   ]
  },
  {
   "cell_type": "code",
   "execution_count": 68,
   "metadata": {},
   "outputs": [
    {
     "data": {
      "text/plain": [
       "Text(0.5, 0.98, 'Percentage of TN Calls vs Other State Calls 2019')"
      ]
     },
     "execution_count": 68,
     "metadata": {},
     "output_type": "execute_result"
    },
    {
     "data": {
      "image/png": "[encoded data removed]",
      "text/plain": [
       "<Figure size 1440x1080 with 1 Axes>"
      ]
     },
     "metadata": {
      "needs_background": "light"
     },
     "output_type": "display_data"
    }
   ],
   "source": [
    "#created chart to plot the percentage of other state calls to TN calls\n",
    "ticksy = ['0%', '20%', '40%', '60%', '80%', '100%']\n",
    "plt.figure(figsize = (20,15))\n",
    "plt.bar(range(len(state_call_2019_ratio)), list(state_call_2019_ratio.values()), align='center', color = '#E97223')\n",
    "plt.xticks(range(len(state_call_2019_ratio)), list(state_call_2019_ratio.keys()), fontsize = 23)\n",
    "plt.yticks([0.0,0.2,0.4,0.6,0.8,1.0],ticksy, fontsize = 23)\n",
    "plt.suptitle('Percentage of TN Calls vs Other State Calls 2019', fontsize = 35)"
   ]
  },
  {
   "cell_type": "code",
   "execution_count": null,
   "metadata": {},
   "outputs": [],
   "source": []
  }
 ],
 "metadata": {
  "kernelspec": {
   "display_name": "Python 3",
   "language": "python",
   "name": "python3"
  },
  "language_info": {
   "codemirror_mode": {
    "name": "ipython",
    "version": 3
   },
   "file_extension": ".py",
   "mimetype": "text/x-python",
   "name": "python",
   "nbconvert_exporter": "python",
   "pygments_lexer": "ipython3",
   "version": "3.8.5"
  }
 },
 "nbformat": 4,
 "nbformat_minor": 4
}
